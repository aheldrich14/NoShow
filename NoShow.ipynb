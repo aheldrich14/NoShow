{
 "cells": [
  {
   "cell_type": "code",
   "execution_count": 163,
   "metadata": {},
   "outputs": [],
   "source": [
    "import numpy as np # linear algebra\n",
    "import pandas as pd # data processing, CSV file I/O (e.g. pd.read_csv)\n",
    "import datetime as dt\n",
    "import matplotlib.pyplot as plt\n",
    "import matplotlib as mpl\n",
    "from sklearn.metrics import confusion_matrix, roc_curve, auc, precision_score, f1_score, roc_auc_score\n",
    "from sklearn.tree import DecisionTreeClassifier\n",
    "from sklearn.svm import SVC, SVR\n",
    "from sklearn.neighbors import KNeighborsClassifier\n",
    "from sklearn.model_selection import train_test_split, GridSearchCV\n",
    "from sklearn.preprocessing import MinMaxScaler,StandardScaler,OneHotEncoder,LabelEncoder\n",
    "from sklearn.linear_model import LogisticRegression, LinearRegression, Ridge\n",
    "from sklearn.ensemble import GradientBoostingClassifier,RandomForestClassifier, VotingClassifier\n",
    "from sklearn.pipeline import Pipeline\n",
    "from sklearn.compose import ColumnTransformer\n",
    "from sklearn.base import BaseEstimator, TransformerMixin\n",
    "from scipy import stats\n",
    "import os\n",
    "import tensorflow as tf\n",
    "from tensorflow import keras\n",
    "from PIL import Image\n",
    "from sklearn.manifold import TSNE\n",
    "import seaborn as sns\n"
   ]
  },
  {
   "cell_type": "code",
   "execution_count": 3,
   "metadata": {},
   "outputs": [],
   "source": []
  },
  {
   "cell_type": "code",
   "execution_count": 9,
   "metadata": {},
   "outputs": [
    {
     "data": {
      "text/plain": [
       "0"
      ]
     },
     "execution_count": 9,
     "metadata": {},
     "output_type": "execute_result"
    }
   ],
   "source": []
  },
  {
   "cell_type": "code",
   "execution_count": 15,
   "metadata": {},
   "outputs": [],
   "source": [
    "class OrdinalEncoder(BaseEstimator, TransformerMixin):\n",
    "    def fit(self, X, y=None):\n",
    "        return self\n",
    "    def transform(self, X, y=None):\n",
    "        for col in X.columns.values:\n",
    "            numVals = len(X[col].unique())\n",
    "            X[col] = X[col]/numVals\n",
    "        return X"
   ]
  },
  {
   "cell_type": "code",
   "execution_count": 22,
   "metadata": {},
   "outputs": [],
   "source": [
    "df = pd.read_csv(r'/c/Users/Andrew/Documents/Python/Pharmacy_forecast/d.csv')\n",
    "x = df.iloc[:,:-1]\n",
    "y = df['NoShow']\n"
   ]
  },
  {
   "cell_type": "code",
   "execution_count": null,
   "metadata": {},
   "outputs": [],
   "source": []
  },
  {
   "cell_type": "code",
   "execution_count": null,
   "metadata": {},
   "outputs": [],
   "source": []
  },
  {
   "cell_type": "code",
   "execution_count": 22,
   "metadata": {},
   "outputs": [
    {
     "data": {
      "text/plain": [
       "Index(['PatientKey', 'PCP', 'DayOfWeek', 'HourNumber',\n",
       "       'AppointmentConfirmationStatus', 'ProviderKey', 'DepartmentKey',\n",
       "       'SchedulingSource', 'DepartmentSpecialty', 'PostalCode', 'VisitType',\n",
       "       'Referral', 'ReferralRequired', 'LeadTime', 'Rescheduled',\n",
       "       'PayorFinancialClass', 'MarkedSelfPay', 'MaritalStatus',\n",
       "       'SmokingStatus', 'M', 'Diagnosis', 'Anxiety', 'Depression', 'Homeless',\n",
       "       'Obesity', 'EdVisits', 'HospAdm', 'PastAppt', 'PastNoShow',\n",
       "       'PastNoShowRate', 'FutureAppts', 'NoShow'],\n",
       "      dtype='object')"
      ]
     },
     "execution_count": 22,
     "metadata": {},
     "output_type": "execute_result"
    }
   ],
   "source": [
    "df.columns"
   ]
  },
  {
   "cell_type": "code",
   "execution_count": 23,
   "metadata": {},
   "outputs": [],
   "source": [
    "numCols = ['LeadTime','EdVisits','HospAdm','PastAppt','PastNoShow','FutureAppts']\n",
    "ordCols = []#'DayOfWeek','HourNumber']\n",
    "oneHotCols = ['AppointmentConfirmationStatus','MaritalStatus','PayorFinancialClass','SmokingStatus', 'SchedulingSource'\n",
    "                ,'DayOfWeek','HourNumber'\n",
    "]\n",
    "embedCols = ['ProviderKey', 'DepartmentKey', 'DepartmentSpecialty', 'PostalCode', 'VisitType', 'PatientKey']\n",
    "diagCol = ['Diagnosis']\n",
    "noChngCols = ['PCP','Referral','ReferralRequired','Rescheduled','MarkedSelfPay','M','PastNoShowRate'\n",
    "              #, 'Anxiety'\n",
    "              #,'Depression', 'Homeless', 'Obesity'\n",
    "             ]\n",
    "\n",
    "num_pipe = Pipeline([\n",
    "    ('scaler',MinMaxScaler())\n",
    "])\n",
    "\n",
    "cat_pipe = Pipeline([\n",
    "    ('one_hot',OneHotEncoder())\n",
    "])\n",
    "\n",
    "full_pipe = ColumnTransformer([\n",
    "    ('num',num_pipe,numCols),\n",
    "    ('cat',cat_pipe,oneHotCols),\n",
    "    ('ord',OrdinalEncoder(),ordCols),\n",
    "    ('no_change','passthrough',noChngCols)\n",
    "], sparse_threshold=0)\n",
    "\n"
   ]
  },
  {
   "cell_type": "code",
   "execution_count": 24,
   "metadata": {},
   "outputs": [],
   "source": [
    "cols = numCols + ordCols + oneHotCols + embedCols + diagCol + noChngCols\n",
    "x_train,x_test,y_train,y_test = train_test_split(x[cols], y, random_state=123)"
   ]
  },
  {
   "cell_type": "code",
   "execution_count": 25,
   "metadata": {},
   "outputs": [],
   "source": [
    "transformer = full_pipe.fit(x_train)\n",
    "x_train_noEmbed = transformer.transform(x_train)\n",
    "x_test_noEmbed = transformer.transform(x_test)"
   ]
  },
  {
   "cell_type": "code",
   "execution_count": 26,
   "metadata": {},
   "outputs": [
    {
     "data": {
      "text/plain": [
       "(200046, 91)"
      ]
     },
     "execution_count": 26,
     "metadata": {},
     "output_type": "execute_result"
    }
   ],
   "source": [
    "x_train_noEmbed.shape\n"
   ]
  },
  {
   "cell_type": "code",
   "execution_count": 27,
   "metadata": {},
   "outputs": [],
   "source": [
    "encoders = []\n",
    "for col in embedCols:\n",
    "    encData = x_train[col]\n",
    "    # test data may contain previsouly unseen labels so we need to encode an 'unseen' label\n",
    "    # before tranforming test data, we replace any values we haven't seen from train data with 'unseen' label\n",
    "    encData = encData.append(pd.Series('Unseen'))\n",
    "    encoder = LabelEncoder().fit(encData)\n",
    "    encoders.append(encoder)\n",
    "    x_train[col] = encoder.transform(x_train[col])\n",
    "    x_test[col] = x_test[col].apply(lambda x: x if x in encoder.classes_ else 'Unseen')\n",
    "    x_test[col] = encoder.transform(x_test[col])\n",
    "\n"
   ]
  },
  {
   "cell_type": "code",
   "execution_count": 28,
   "metadata": {},
   "outputs": [],
   "source": [
    "x_train_embed = x_train[embedCols]\n",
    "x_test_embed = x_test[embedCols]"
   ]
  },
  {
   "cell_type": "code",
   "execution_count": 29,
   "metadata": {},
   "outputs": [],
   "source": [
    "#create dict of unique diagnosis found in training data\n",
    "uniqueTrainDiags = {}\n",
    "for diagList in x_train['Diagnosis'].unique().tolist():\n",
    "    diags = diagList.split()\n",
    "    for diag in diags:\n",
    "        uniqueTrainDiags[diag] = 1"
   ]
  },
  {
   "cell_type": "code",
   "execution_count": 30,
   "metadata": {},
   "outputs": [],
   "source": [
    "def findUnseen(row,trainList):\n",
    "    newRow = ''\n",
    "    d_list = row.tolist()[0].split()\n",
    "    for d in d_list:\n",
    "        if trainList.get(d) is None:\n",
    "            newRow += ' Unseen'\n",
    "        else:\n",
    "            newRow += ' ' + d\n",
    "    if len(newRow) == 0:\n",
    "        newRow = 'None'\n",
    "    else:\n",
    "        #strip leading space\n",
    "        newRow = newRow[1:]\n",
    "    return newRow\n",
    "        "
   ]
  },
  {
   "cell_type": "code",
   "execution_count": 31,
   "metadata": {},
   "outputs": [],
   "source": [
    "x_test[diagCol] = x_test[diagCol].apply(lambda x: findUnseen(x,uniqueTrainDiags), axis=1)"
   ]
  },
  {
   "cell_type": "code",
   "execution_count": null,
   "metadata": {},
   "outputs": [],
   "source": []
  },
  {
   "cell_type": "code",
   "execution_count": null,
   "metadata": {},
   "outputs": [],
   "source": []
  },
  {
   "cell_type": "code",
   "execution_count": 32,
   "metadata": {},
   "outputs": [],
   "source": [
    "diags = x_train['Diagnosis'].tolist()\n",
    "fit_diags = diags.copy()\n",
    "fit_diags.append('Unseen')\n",
    "maxlen=20\n",
    "maxwords=1000\n",
    "tokenizer = keras.preprocessing.text.Tokenizer(num_words=maxwords)\n",
    "tokenizer.fit_on_texts(fit_diags)\n",
    "sequences = tokenizer.texts_to_sequences(diags)\n",
    "d_index = tokenizer.word_index\n",
    "d_train_data = keras.preprocessing.sequence.pad_sequences(sequences,maxlen,padding='post')\n",
    "test_sequences = tokenizer.texts_to_sequences(x_test['Diagnosis'].tolist())\n",
    "d_test_data = keras.preprocessing.sequence.pad_sequences(test_sequences,maxlen,padding='post')"
   ]
  },
  {
   "cell_type": "code",
   "execution_count": 291,
   "metadata": {},
   "outputs": [
    {
     "data": {
      "text/plain": [
       "['ProviderKey',\n",
       " 'DepartmentKey',\n",
       " 'DepartmentSpecialty',\n",
       " 'PostalCode',\n",
       " 'VisitType']"
      ]
     },
     "execution_count": 291,
     "metadata": {},
     "output_type": "execute_result"
    }
   ],
   "source": [
    "embedCols\n"
   ]
  },
  {
   "cell_type": "code",
   "execution_count": 179,
   "metadata": {},
   "outputs": [
    {
     "name": "stdout",
     "output_type": "stream",
     "text": [
      "Epoch 1/4\n",
      "201/201 [==============================] - 5s 26ms/step - loss: 0.4909 - accuracy: 0.7730 - auc_1: 0.7589\n",
      "Epoch 2/4\n",
      "201/201 [==============================] - 5s 26ms/step - loss: 0.3973 - accuracy: 0.8286 - auc_1: 0.8434\n",
      "Epoch 3/4\n",
      "201/201 [==============================] - 5s 25ms/step - loss: 0.3799 - accuracy: 0.8362 - auc_1: 0.8562\n",
      "Epoch 4/4\n",
      "201/201 [==============================] - 5s 25ms/step - loss: 0.3695 - accuracy: 0.8412 - auc_1: 0.8642\n"
     ]
    },
    {
     "data": {
      "text/plain": [
       "<tensorflow.python.keras.callbacks.History at 0x7f260fb1e358>"
      ]
     },
     "execution_count": 179,
     "metadata": {},
     "output_type": "execute_result"
    }
   ],
   "source": [
    "main_input = keras.Input(shape = x_train_noEmbed.shape[1], name = 'main_input')\n",
    "\n",
    "diagnosis_input = keras.Input(shape = d_train_data.shape[1], name = 'diagnosis_input' )\n",
    "d = keras.layers.Embedding(output_dim = 8, input_dim=maxwords, input_length = maxlen)(diagnosis_input)\n",
    "diagnosis_out = keras.layers.Flatten()(d)\n",
    "diagnosis_output = keras.layers.Dense(1, activation='sigmoid', name = 'diagnosis_model_out')(diagnosis_out)\n",
    "\n",
    "Prov = keras.Input(shape =(1,), name = 'provider')\n",
    "p = keras.layers.Embedding(output_dim = 4, input_dim = len(x_train['ProviderKey'].unique())+1, input_length = 1\n",
    "                              )(Prov)\n",
    "pout = keras.layers.Flatten()(p) \n",
    "\n",
    "Dep = keras.Input(shape =(1,), name = 'dep')\n",
    "dd = keras.layers.Embedding(output_dim = 4, input_dim = len(x_train['DepartmentKey'].unique())+1, input_length = 1\n",
    "                              )(Dep)\n",
    "ddout = keras.layers.Flatten()(dd) \n",
    "\n",
    "Spec = keras.Input(shape =(1,), name = 'specialty')\n",
    "sp = keras.layers.Embedding(output_dim = 2, input_dim = len(x_train['DepartmentSpecialty'].unique())+1, input_length = 1\n",
    "                              )(Spec)\n",
    "spout = keras.layers.Flatten()(sp) \n",
    "\n",
    "Zip = keras.Input(shape =(1,), name = 'zipcode')\n",
    "z = keras.layers.Embedding(output_dim = 2, input_dim = len(x_train['PostalCode'].unique())+1, input_length = 1\n",
    "                              )(Zip)\n",
    "zout = keras.layers.Flatten()(z) \n",
    "\n",
    "Vis = keras.Input(shape =(1,), name = 'visit')\n",
    "v = keras.layers.Embedding(output_dim = 4, input_dim = len(x_train['VisitType'].unique())+1, input_length = 1\n",
    "                              )(Vis)\n",
    "vout = keras.layers.Flatten()(v) \n",
    "\n",
    "#Pat = keras.Input(shape =(1,), name = 'patient')\n",
    "#pp = keras.layers.Embedding(output_dim = 2, input_dim = len(x_train['PatientKey'].unique())+1, input_length = 1\n",
    "#                              )(Pat)\n",
    "#patout = keras.layers.Flatten()(pp)\n",
    "\n",
    "\n",
    "full = keras.layers.concatenate([main_input, diagnosis_out, pout, ddout, spout, zout, vout])\n",
    "full = keras.layers.Dense(200, activation = 'relu')(full)\n",
    "full = keras.layers.Dropout(0.5)(full)\n",
    "full = keras.layers.Dense(200, activation = 'relu')(full)\n",
    "full = keras.layers.Dropout(0.5)(full)\n",
    "full = keras.layers.Dense(32, activation = 'relu')(full)\n",
    "#full = keras.layers.Dense(16, activation = 'relu')(full)\n",
    "main_output = keras.layers.Dense(1, activation = 'sigmoid')(full)\n",
    "\n",
    "\n",
    "#embed_input = keras.Input(shape=(1,), name = 'embed_input')\n",
    "#embed = keras.Layers.Embedding(output_dim = 8, input_dim = , input_length)\n",
    "\n",
    "model = keras.Model(\n",
    "    inputs = [main_input, diagnosis_input, Prov, Dep, Spec, Zip, Vis],\n",
    "    outputs = [main_output]  \n",
    ")\n",
    "model.compile(\n",
    "    optimizer='adam',\n",
    "    loss='binary_crossentropy',\n",
    "    metrics=['accuracy',keras.metrics.AUC()]\n",
    ")\n",
    "model.fit([x_train_noEmbed, d_train_data, x_train['ProviderKey'],\n",
    "          x_train['DepartmentKey'],\n",
    "           x_train['DepartmentSpecialty'],\n",
    "           x_train['PostalCode'],\n",
    "           x_train['VisitType'],\n",
    "          ], \n",
    "    y_train, epochs=4, batch_size=1000\n",
    ")\n"
   ]
  },
  {
   "cell_type": "code",
   "execution_count": 180,
   "metadata": {},
   "outputs": [
    {
     "name": "stdout",
     "output_type": "stream",
     "text": [
      "2084/2084 [==============================] - 7s 3ms/step - loss: 0.3788 - accuracy: 0.8365 - auc_1: 0.8571\n"
     ]
    },
    {
     "data": {
      "text/plain": [
       "[0.37880149483680725, 0.8365400433540344, 0.8570691347122192]"
      ]
     },
     "execution_count": 180,
     "metadata": {},
     "output_type": "execute_result"
    }
   ],
   "source": [
    "model.evaluate([x_test_noEmbed, d_test_data, x_test['ProviderKey'],\n",
    "          x_test['DepartmentKey'],\n",
    "           x_test['DepartmentSpecialty'],\n",
    "           x_test['PostalCode'],\n",
    "           x_test['VisitType'],\n",
    "            #x_test['PatientKey']\n",
    "               ],\n",
    "               y_test\n",
    "\n",
    ")"
   ]
  },
  {
   "cell_type": "code",
   "execution_count": 181,
   "metadata": {},
   "outputs": [],
   "source": [
    "preds = model.predict([x_test_noEmbed, d_test_data, x_test['ProviderKey'],\n",
    "          x_test['DepartmentKey'],\n",
    "           x_test['DepartmentSpecialty'],\n",
    "           x_test['PostalCode'],\n",
    "           x_test['VisitType'],\n",
    "           # x_test['PatientKey']\n",
    "               ]\n",
    "\n",
    ")\n",
    "\n"
   ]
  },
  {
   "cell_type": "code",
   "execution_count": 182,
   "metadata": {},
   "outputs": [
    {
     "data": {
      "text/plain": [
       "array([[46468,  1423],\n",
       "       [ 9473,  9319]])"
      ]
     },
     "execution_count": 182,
     "metadata": {},
     "output_type": "execute_result"
    }
   ],
   "source": [
    "preds = preds > .499\n",
    "preds = preds.astype(int)\n",
    "confusion_matrix(y_test,preds)"
   ]
  },
  {
   "cell_type": "code",
   "execution_count": 183,
   "metadata": {},
   "outputs": [
    {
     "name": "stdout",
     "output_type": "stream",
     "text": [
      "0.6310692760885759\n",
      "[0.         0.02971331 1.        ]\n",
      "[0.         0.49590251 1.        ]\n",
      "0.7330946022025556\n",
      "0.8393143679798449\n"
     ]
    },
    {
     "data": {
      "text/plain": [
       "0.7330946022025556"
      ]
     },
     "execution_count": 183,
     "metadata": {},
     "output_type": "execute_result"
    }
   ],
   "source": [
    "f1 = f1_score(y_test,preds)\n",
    "print(f1)\n",
    "fpr, tpr, thresholds = roc_curve(y_test, preds)\n",
    "print(fpr)\n",
    "print(tpr)\n",
    "print(auc(fpr,tpr))\n",
    "print((46105+9863)/(46105+9863+1786+8929))\n",
    "roc_auc_score(y_test,preds)\n"
   ]
  },
  {
   "cell_type": "code",
   "execution_count": 115,
   "metadata": {},
   "outputs": [
    {
     "name": "stdout",
     "output_type": "stream",
     "text": [
      "Epoch 1/3\n",
      "1577/1577 [==============================] - 5s 3ms/step - loss: 0.5600 - accuracy: 0.7553 - auc: 0.5223\n",
      "Epoch 2/3\n",
      "1577/1577 [==============================] - 5s 3ms/step - loss: 0.5470 - accuracy: 0.7559 - auc: 0.5435\n",
      "Epoch 3/3\n",
      "1577/1577 [==============================] - 5s 3ms/step - loss: 0.5470 - accuracy: 0.7559 - auc: 0.5441\n"
     ]
    },
    {
     "data": {
      "text/plain": [
       "<tensorflow.python.keras.callbacks.History at 0x7f3833e96358>"
      ]
     },
     "execution_count": 115,
     "metadata": {},
     "output_type": "execute_result"
    }
   ],
   "source": [
    "zips = len(x[col].unique())\n",
    "zipEmbed = keras.models.Sequential()\n",
    "zipEmbed.add(keras.layers.Embedding(input_dim = zips+1 , output_dim = 4, input_length=1))\n",
    "zipEmbed.add(keras.layers.Flatten())\n",
    "zipEmbed.add(keras.layers.Dense(1, activation='sigmoid'))\n",
    "zipEmbed.compile(optimizer='rmsprop',\n",
    "          loss='binary_crossentropy',\n",
    "          metrics=['accuracy','AUC'])\n",
    "\n",
    "zipEmbed.fit(x_train,y_train, epochs=3, batch_size=100)"
   ]
  },
  {
   "cell_type": "code",
   "execution_count": 184,
   "metadata": {},
   "outputs": [
    {
     "data": {
      "text/plain": [
       "[<tensorflow.python.keras.engine.input_layer.InputLayer at 0x7f25e48ccb00>,\n",
       " <tensorflow.python.keras.engine.input_layer.InputLayer at 0x7f25e48add68>,\n",
       " <tensorflow.python.keras.engine.input_layer.InputLayer at 0x7f25e48dd198>,\n",
       " <tensorflow.python.keras.engine.input_layer.InputLayer at 0x7f25e48a8710>,\n",
       " <tensorflow.python.keras.engine.input_layer.InputLayer at 0x7f25e48a95c0>,\n",
       " <tensorflow.python.keras.engine.input_layer.InputLayer at 0x7f25e46d8940>,\n",
       " <tensorflow.python.keras.layers.embeddings.Embedding at 0x7f25e48cccc0>,\n",
       " <tensorflow.python.keras.layers.embeddings.Embedding at 0x7f25e48a5438>,\n",
       " <tensorflow.python.keras.layers.embeddings.Embedding at 0x7f25e48ad780>,\n",
       " <tensorflow.python.keras.layers.embeddings.Embedding at 0x7f25e48a8630>,\n",
       " <tensorflow.python.keras.layers.embeddings.Embedding at 0x7f25e48a9b38>,\n",
       " <tensorflow.python.keras.layers.embeddings.Embedding at 0x7f25e46d8eb8>,\n",
       " <tensorflow.python.keras.engine.input_layer.InputLayer at 0x7f25e48cc9b0>,\n",
       " <tensorflow.python.keras.layers.core.Flatten at 0x7f25e48ccf98>,\n",
       " <tensorflow.python.keras.layers.core.Flatten at 0x7f25e48dd4a8>,\n",
       " <tensorflow.python.keras.layers.core.Flatten at 0x7f25e48a86a0>,\n",
       " <tensorflow.python.keras.layers.core.Flatten at 0x7f25e48a9be0>,\n",
       " <tensorflow.python.keras.layers.core.Flatten at 0x7f25e46d8f60>,\n",
       " <tensorflow.python.keras.layers.core.Flatten at 0x7f25e46d9c50>,\n",
       " <tensorflow.python.keras.layers.merge.Concatenate at 0x7f25e46c5208>,\n",
       " <tensorflow.python.keras.layers.core.Dense at 0x7f25e46c5d68>,\n",
       " <tensorflow.python.keras.layers.core.Dropout at 0x7f25e46c3a20>,\n",
       " <tensorflow.python.keras.layers.core.Dense at 0x7f25e46c39e8>,\n",
       " <tensorflow.python.keras.layers.core.Dropout at 0x7f25e46c26a0>,\n",
       " <tensorflow.python.keras.layers.core.Dense at 0x7f25e46c2e48>,\n",
       " <tensorflow.python.keras.layers.core.Dense at 0x7f25e46bf0f0>]"
      ]
     },
     "execution_count": 184,
     "metadata": {},
     "output_type": "execute_result"
    }
   ],
   "source": [
    "model.layers"
   ]
  },
  {
   "cell_type": "code",
   "execution_count": 246,
   "metadata": {},
   "outputs": [
    {
     "data": {
      "text/plain": [
       "array([[ 0.14979303, -1.2594631 ],\n",
       "       [ 1.2294626 , -0.3683956 ],\n",
       "       [-0.24950534, -0.71836567],\n",
       "       ...,\n",
       "       [ 0.7260746 ,  0.9568133 ],\n",
       "       [-2.537052  , -2.7533436 ],\n",
       "       [-3.0123613 ,  0.597982  ]], dtype=float32)"
      ]
     },
     "execution_count": 246,
     "metadata": {},
     "output_type": "execute_result"
    }
   ],
   "source": [
    "#diag = 6\n",
    "#prov = 7\n",
    "#dep = 8\n",
    "#spec = 9\n",
    "#zip = 10\n",
    "#visit = 11\n",
    "Embeddings = model.layers[6].get_weights()[0]\n",
    "\n",
    "tsne_model = TSNE(perplexity=200, n_components=2, init='pca', n_iter=2500, random_state=23)\n",
    "new_values = tsne_model.fit_transform(Embeddings)\n",
    "new_values"
   ]
  },
  {
   "cell_type": "code",
   "execution_count": 247,
   "metadata": {},
   "outputs": [],
   "source": [
    "d_train_data_df=pd.DataFrame(d_train_data, index=y_train.index)\n",
    "d_train_data_df = d_train_data_df.merge(y_train, left_index=True, right_index=True)\n"
   ]
  },
  {
   "cell_type": "code",
   "execution_count": 249,
   "metadata": {},
   "outputs": [
    {
     "name": "stdout",
     "output_type": "stream",
     "text": [
      "0.6938271604938272\n",
      "977\n"
     ]
    },
    {
     "data": {
      "image/png": "[encoded data removed]",
      "text/plain": [
       "<Figure size 432x288 with 2 Axes>"
      ]
     },
     "metadata": {
      "needs_background": "light"
     },
     "output_type": "display_data"
    }
   ],
   "source": [
    "col = 'Diagnosis'\n",
    "x1 = []\n",
    "y1 = []\n",
    "avgno_show = []\n",
    "for index, value in enumerate(new_values):\n",
    "    x1.append(new_values[index][0])\n",
    "    y1.append(new_values[index][1])\n",
    "    cnt = 0\n",
    "    no_show = 0\n",
    "    for col in range(0,maxlen):\n",
    "        t = d_train_data_df[d_train_data_df[col] == index]\n",
    "        cnt += len(t)  ##maybe double counting visits need to fix\n",
    "        no_show += t['NoShow'].sum()\n",
    "    avg = no_show/cnt\n",
    "    avgno_show.append(avg)\n",
    "    \n",
    "f, ax = plt.subplots()\n",
    "\n",
    "cmap = sns.cubehelix_palette(n_colors=10, start=0.3, rot=0.4, gamma=1.0, hue=1.0, light=0.9, dark=0.1, as_cmap=True)\n",
    "axs0 = ax.scatter(x1, y1, s=20, c=avgno_show, cmap=cmap)\n",
    "f.colorbar(axs0, ax=ax, orientation='vertical')\n"
   ]
  },
  {
   "cell_type": "code",
   "execution_count": null,
   "metadata": {},
   "outputs": [],
   "source": []
  },
  {
   "cell_type": "code",
   "execution_count": 233,
   "metadata": {},
   "outputs": [
    {
     "data": {
      "text/plain": [
       "<matplotlib.colorbar.Colorbar at 0x7f2598790d68>"
      ]
     },
     "execution_count": 233,
     "metadata": {},
     "output_type": "execute_result"
    },
    {
     "data": {
      "image/png": "[encoded data removed]",
      "text/plain": [
       "<Figure size 432x288 with 2 Axes>"
      ]
     },
     "metadata": {
      "needs_background": "light"
     },
     "output_type": "display_data"
    }
   ],
   "source": [
    "col = 'PostalCode'\n",
    "full_train = x_train.merge(y_train, left_index=True, right_index=True)\n",
    "x1 = []\n",
    "y1 = []\n",
    "avgno_show = []\n",
    "for index, value in enumerate(new_values):\n",
    "    avgno_show.append(full_train[full_train[col]==index]['NoShow'].mean())\n",
    "    x1.append(new_values[index][0])\n",
    "    y1.append(new_values[index][1])\n",
    "\n",
    "f, ax = plt.subplots()\n",
    "\n",
    "cmap = sns.cubehelix_palette(n_colors=10, start=0.3, rot=0.4, gamma=1.0, hue=1.0, light=0.9, dark=0.1, as_cmap=True)\n",
    "axs0 = ax.scatter(x1, y1, s=20, c=avgno_show, cmap=cmap)\n",
    "f.colorbar(axs0, ax=ax, orientation='vertical')"
   ]
  },
  {
   "cell_type": "code",
   "execution_count": 231,
   "metadata": {},
   "outputs": [
    {
     "data": {
      "text/plain": [
       "array(['Unseen'], dtype=object)"
      ]
     },
     "execution_count": 231,
     "metadata": {},
     "output_type": "execute_result"
    }
   ],
   "source": []
  },
  {
   "cell_type": "code",
   "execution_count": null,
   "metadata": {},
   "outputs": [],
   "source": []
  },
  {
   "cell_type": "code",
   "execution_count": null,
   "metadata": {},
   "outputs": [],
   "source": []
  },
  {
   "cell_type": "code",
   "execution_count": null,
   "metadata": {},
   "outputs": [],
   "source": []
  }
 ],
 "metadata": {
  "kernelspec": {
   "display_name": "Python 3",
   "language": "python",
   "name": "python3"
  },
  "language_info": {
   "codemirror_mode": {
    "name": "ipython",
    "version": 3
   },
   "file_extension": ".py",
   "mimetype": "text/x-python",
   "name": "python",
   "nbconvert_exporter": "python",
   "pygments_lexer": "ipython3",
   "version": "3.6.9"
  }
 },
 "nbformat": 4,
 "nbformat_minor": 4
}
